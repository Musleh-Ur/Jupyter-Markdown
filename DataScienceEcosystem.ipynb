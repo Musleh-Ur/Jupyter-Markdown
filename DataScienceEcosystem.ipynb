{
 "cells": [
  {
   "cell_type": "markdown",
   "id": "33090a6a-e591-42c5-b8f1-fa2c58147fb6",
   "metadata": {},
   "source": [
    "# Data Science Tools and Ecosystem"
   ]
  },
  {
   "cell_type": "markdown",
   "id": "2cbbace3-44f9-4d4a-9832-90a1444a47ae",
   "metadata": {},
   "source": [
    "In this notebook, Data Science Tools and Ecosystem are summarized."
   ]
  },
  {
   "cell_type": "markdown",
   "id": "1d674b78-14db-40e8-9333-ea35985065d4",
   "metadata": {},
   "source": [
    "**Objectives:** \n",
    "\n",
    "* List popular languages for Data Science.\n",
    "* List popular libraries for Data Science.\n",
    "* List popular Data Science Tools."
   ]
  },
  {
   "cell_type": "markdown",
   "id": "a8ea6c4c-8ebf-4c2e-b8f0-17da5fc1f13a",
   "metadata": {},
   "source": [
    "Some of the popular languages that Data Scientists use are:\n",
    "\n",
    "    1. Python\n",
    "    2. R\n",
    "    3. Scala"
   ]
  },
  {
   "cell_type": "markdown",
   "id": "42bf83ca-d42a-42e9-a398-fc2ef2449775",
   "metadata": {},
   "source": [
    "Some of the commonly used libraries used by Data Scientists include:\n",
    "    \n",
    "    1. Tensorflow\n",
    "    2. Sci-Kit Learn\n",
    "    3. Keras"
   ]
  },
  {
   "cell_type": "markdown",
   "id": "8e814f33-d378-4bfe-8c61-ad9913d75f16",
   "metadata": {
    "tags": []
   },
   "source": [
    "| Data Science Tools |\n",
    "|--|\n",
    "| Jupyter Notebook |\n",
    "| Rstudio |\n",
    "| Google Colab |"
   ]
  },
  {
   "cell_type": "markdown",
   "id": "bcdb9429-c867-4081-9967-08299549a733",
   "metadata": {
    "tags": []
   },
   "source": [
    "### Below are a few examples of evaluating arithmetic expressions in Python"
   ]
  },
  {
   "cell_type": "markdown",
   "id": "af596856-06ce-4988-9a44-4506f3fbfbc9",
   "metadata": {},
   "source": [
    "This a simple arithmetic expression to mutiply then add integers"
   ]
  },
  {
   "cell_type": "code",
   "execution_count": 3,
   "id": "8fa54556-8e94-47d8-9667-b94a6a4e280a",
   "metadata": {
    "tags": []
   },
   "outputs": [
    {
     "data": {
      "text/plain": [
       "17"
      ]
     },
     "execution_count": 3,
     "metadata": {},
     "output_type": "execute_result"
    }
   ],
   "source": [
    "(3*4)+5"
   ]
  },
  {
   "cell_type": "code",
   "execution_count": 4,
   "id": "7aaeced1-6ed8-47fe-be79-3c145ceecf96",
   "metadata": {
    "tags": []
   },
   "outputs": [
    {
     "name": "stdout",
     "output_type": "stream",
     "text": [
      "200 minutes is equivalent to 3.33 hours.\n"
     ]
    }
   ],
   "source": [
    "# This will convert 200 minutes to hours by dividing by 60.\n",
    "minutes_to_convert = 200\n",
    "hours = minutes_to_convert / 60\n",
    "print(f\"{minutes_to_convert} minutes is equivalent to {hours:.2f} hours.\")"
   ]
  },
  {
   "cell_type": "markdown",
   "id": "86e0b334-05ef-4a2b-88b1-00f9a92190fe",
   "metadata": {},
   "source": [
    "## Author:\n",
    "Musleh-Ur Rahman"
   ]
  },
  {
   "cell_type": "code",
   "execution_count": null,
   "id": "0bfbc117-15c9-4025-9508-007cc0dfa623",
   "metadata": {},
   "outputs": [],
   "source": []
  }
 ],
 "metadata": {
  "kernelspec": {
   "display_name": "Python",
   "language": "python",
   "name": "conda-env-python-py"
  },
  "language_info": {
   "codemirror_mode": {
    "name": "ipython",
    "version": 3
   },
   "file_extension": ".py",
   "mimetype": "text/x-python",
   "name": "python",
   "nbconvert_exporter": "python",
   "pygments_lexer": "ipython3",
   "version": "3.7.12"
  }
 },
 "nbformat": 4,
 "nbformat_minor": 5
}
